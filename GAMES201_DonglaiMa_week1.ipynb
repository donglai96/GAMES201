{
 "cells": [
  {
   "cell_type": "markdown",
   "metadata": {},
   "source": [
    "# Advanced Physics Engines Week 1"
   ]
  },
  {
   "cell_type": "markdown",
   "metadata": {},
   "source": [
    "## What is Taichi\n",
    "Data-oriented, parallel, megakernels\n"
   ]
  },
  {
   "cell_type": "code",
   "execution_count": 1,
   "metadata": {},
   "outputs": [
    {
     "name": "stdout",
     "output_type": "stream",
     "text": [
      "Collecting taichi\n",
      "  Downloading taichi-0.7.18-cp37-cp37m-win_amd64.whl (20.0 MB)\n",
      "Collecting numpy\n",
      "  Using cached numpy-1.20.2-cp37-cp37m-win_amd64.whl (13.6 MB)\n",
      "Requirement already satisfied: colorama in c:\\users\\donglai\\anaconda3\\envs\\taichi_test\\lib\\site-packages (from taichi) (0.4.4)\n",
      "Collecting astor\n",
      "  Using cached astor-0.8.1-py2.py3-none-any.whl (27 kB)\n",
      "Collecting pybind11>=2.5.0\n",
      "  Downloading pybind11-2.6.2-py2.py3-none-any.whl (191 kB)\n",
      "Collecting sourceinspect>=0.0.4\n",
      "  Downloading sourceinspect-0.0.4-py3-none-any.whl (3.5 kB)\n",
      "Collecting dill\n",
      "  Downloading dill-0.3.3-py2.py3-none-any.whl (81 kB)\n",
      "Installing collected packages: dill, sourceinspect, pybind11, numpy, astor, taichi\n",
      "Successfully installed astor-0.8.1 dill-0.3.3 numpy-1.20.2 pybind11-2.6.2 sourceinspect-0.0.4 taichi-0.7.18\n"
     ]
    },
    {
     "name": "stderr",
     "output_type": "stream",
     "text": [
      "ERROR: pip's dependency resolver does not currently take into account all the packages that are installed. This behaviour is the source of the following dependency conflicts.\n",
      "spacepy 0.2.1 requires h5py, which is not installed.\n",
      "spacepy 0.2.1 requires matplotlib>=1.5, which is not installed.\n",
      "spacepy 0.2.1 requires scipy>=0.10, which is not installed.\n"
     ]
    }
   ],
   "source": [
    "!pip install taichi\n"
   ]
  },
  {
   "cell_type": "code",
   "execution_count": 2,
   "metadata": {},
   "outputs": [
    {
     "name": "stdout",
     "output_type": "stream",
     "text": [
      "Collecting matplotlib\n",
      "  Downloading matplotlib-3.4.2-cp37-cp37m-win_amd64.whl (7.1 MB)\n",
      "Requirement already satisfied: python-dateutil>=2.7 in c:\\users\\donglai\\anaconda3\\envs\\taichi_test\\lib\\site-packages (from matplotlib) (2.8.1)\n",
      "Collecting pillow>=6.2.0\n",
      "  Using cached Pillow-8.2.0-cp37-cp37m-win_amd64.whl (2.2 MB)\n",
      "Collecting kiwisolver>=1.0.1\n",
      "  Using cached kiwisolver-1.3.1-cp37-cp37m-win_amd64.whl (51 kB)\n",
      "Collecting cycler>=0.10\n",
      "  Using cached cycler-0.10.0-py2.py3-none-any.whl (6.5 kB)\n",
      "Requirement already satisfied: pyparsing>=2.2.1 in c:\\users\\donglai\\anaconda3\\envs\\taichi_test\\lib\\site-packages (from matplotlib) (2.4.7)\n",
      "Requirement already satisfied: numpy>=1.16 in c:\\users\\donglai\\anaconda3\\envs\\taichi_test\\lib\\site-packages (from matplotlib) (1.20.2)\n",
      "Requirement already satisfied: six in c:\\users\\donglai\\anaconda3\\envs\\taichi_test\\lib\\site-packages (from cycler>=0.10->matplotlib) (1.16.0)\n",
      "Installing collected packages: pillow, kiwisolver, cycler, matplotlib\n",
      "Successfully installed cycler-0.10.0 kiwisolver-1.3.1 matplotlib-3.4.2 pillow-8.2.0\n"
     ]
    },
    {
     "name": "stderr",
     "output_type": "stream",
     "text": [
      "ERROR: pip's dependency resolver does not currently take into account all the packages that are installed. This behaviour is the source of the following dependency conflicts.\n",
      "spacepy 0.2.1 requires h5py, which is not installed.\n",
      "spacepy 0.2.1 requires scipy>=0.10, which is not installed.\n"
     ]
    }
   ],
   "source": [
    "!pip install matplotlib\n"
   ]
  },
  {
   "cell_type": "code",
   "execution_count": 3,
   "metadata": {},
   "outputs": [
    {
     "name": "stdout",
     "output_type": "stream",
     "text": [
      "Collecting h5py\n",
      "  Using cached h5py-3.2.1-cp37-cp37m-win_amd64.whl (2.7 MB)\n",
      "Requirement already satisfied: numpy>=1.14.5 in c:\\users\\donglai\\anaconda3\\envs\\taichi_test\\lib\\site-packages (from h5py) (1.20.2)\n",
      "Collecting cached-property\n",
      "  Using cached cached_property-1.5.2-py2.py3-none-any.whl (7.6 kB)\n",
      "Installing collected packages: cached-property, h5py\n",
      "Successfully installed cached-property-1.5.2 h5py-3.2.1\n"
     ]
    },
    {
     "name": "stderr",
     "output_type": "stream",
     "text": [
      "ERROR: pip's dependency resolver does not currently take into account all the packages that are installed. This behaviour is the source of the following dependency conflicts.\n",
      "spacepy 0.2.1 requires scipy>=0.10, which is not installed.\n"
     ]
    }
   ],
   "source": [
    "!pip install h5py\n"
   ]
  },
  {
   "cell_type": "code",
   "execution_count": 5,
   "metadata": {},
   "outputs": [
    {
     "name": "stdout",
     "output_type": "stream",
     "text": [
      "Collecting scipy\n",
      "  Downloading scipy-1.6.3-cp37-cp37m-win_amd64.whl (32.6 MB)\n",
      "Requirement already satisfied: numpy<1.23.0,>=1.16.5 in c:\\users\\donglai\\anaconda3\\envs\\taichi_test\\lib\\site-packages (from scipy) (1.20.2)\n",
      "Installing collected packages: scipy\n",
      "Successfully installed scipy-1.6.3\n"
     ]
    }
   ],
   "source": [
    "!pip install scipy\n"
   ]
  },
  {
   "cell_type": "code",
   "execution_count": 7,
   "metadata": {},
   "outputs": [
    {
     "name": "stdout",
     "output_type": "stream",
     "text": [
      "[Taichi] mode=release\n",
      "[Taichi] version 0.7.18, llvm 10.0.0, commit 9a31814b, win, python 3.7.10\n",
      "[Taichi] Starting on arch=cuda\n"
     ]
    }
   ],
   "source": [
    "# Getting started\n",
    "import taichi as ti\n",
    "\n",
    "ti.init(arch=ti.cuda)"
   ]
  },
  {
   "cell_type": "code",
   "execution_count": 5,
   "metadata": {},
   "outputs": [
    {
     "name": "stdout",
     "output_type": "stream",
     "text": [
      "[Taichi] Starting on arch=cuda\n",
      "[Taichi] materializing...\n",
      "<class 'taichi.lang.expr.Expr'>\n",
      "[[0. 0. 0. 0.]\n",
      " [0. 0. 1. 0.]\n",
      " [0. 0. 0. 0.]\n",
      " [0. 0. 0. 0.]\n",
      " [0. 0. 0. 0.]\n",
      " [0. 0. 0. 0.]]\n"
     ]
    }
   ],
   "source": [
    "# Data\n",
    "import taichi as ti\n",
    "ti.init(arch=ti.cuda)\n",
    "\n",
    "a = ti.field(dtype = ti.f32,shape = (6,4))\n",
    "\n",
    "C = ti.Matrix.field(2,2,dtype= ti.f32,shape=(3,4))\n",
    "a[1,2] = 1\n",
    "print(type(a))\n",
    "print(a)"
   ]
  },
  {
   "cell_type": "markdown",
   "metadata": {},
   "source": [
    "### lexically-scoped\n",
    "\n",
    "Whats the meaning of lexically scoped?\n",
    "\n",
    "\n",
    "For example, if y is referenced inside a function f, but y is not defined inside f, then y resolves to the first variable named y that is defined in the enclosing scope of the definitio of f."
   ]
  },
  {
   "cell_type": "code",
   "execution_count": 6,
   "metadata": {},
   "outputs": [],
   "source": [
    "@ti.kernel\n",
    "def hello(i: ti.i32):\n",
    "    a = 40\n",
    "    print('Hello world!', a + i)\n",
    "hello(2)"
   ]
  },
  {
   "cell_type": "code",
   "execution_count": 11,
   "metadata": {},
   "outputs": [],
   "source": [
    "@ti.func \n",
    "def triple(x):\n",
    "    return x *3\n"
   ]
  },
  {
   "cell_type": "code",
   "execution_count": 14,
   "metadata": {},
   "outputs": [
    {
     "name": "stdout",
     "output_type": "stream",
     "text": [
      "[Taichi] Starting on arch=cuda\n",
      "[Taichi] materializing...\n",
      "[[0.3        0.30200002 0.30400002 ... 0.934      0.93600005 0.938     ]\n",
      " [0.301      0.303      0.305      ... 0.935      0.93700004 0.939     ]\n",
      " [0.30200002 0.30400002 0.30600002 ... 0.93600005 0.938      0.94000006]\n",
      " ...\n",
      " [0.93700004 0.939      0.94100004 ... 1.5710001  1.5730001  1.575     ]\n",
      " [0.938      0.94       0.94200003 ... 1.572      1.574      1.5760001 ]\n",
      " [0.93900007 0.94100004 0.9430001  ... 1.5730001  1.575      1.5770001 ]]\n"
     ]
    }
   ],
   "source": [
    "import taichi as ti\n",
    "\n",
    "ti.init(arch = ti.cuda)\n",
    "n = 320\n",
    "pixels = ti.field(dtype = ti.f32,shape = (n * 2, n))\n",
    "\n",
    "@ti.kernel\n",
    "def paint(t: ti.f32):\n",
    "    for i , j in pixels:\n",
    "        pixels[i, j] = i * 0.001 + j* 0.002 + t\n",
    "paint(0.3)\n",
    "print(pixels)"
   ]
  },
  {
   "cell_type": "markdown",
   "metadata": {},
   "source": [
    "### Atomic Operations\n",
    "\n"
   ]
  },
  {
   "cell_type": "markdown",
   "metadata": {},
   "source": [
    "### Taichi-scope\n",
    "\n",
    "Taichi scope will be runing parallel!\n"
   ]
  },
  {
   "cell_type": "code",
   "execution_count": 15,
   "metadata": {},
   "outputs": [
    {
     "name": "stdout",
     "output_type": "stream",
     "text": [
      "[Taichi] mode=release\n",
      "[Taichi] version 0.7.18, llvm 10.0.0, commit 9a31814b, win, python 3.7.10\n",
      "\n",
      "*******************************************\n",
      "**      Taichi Programming Language      **\n",
      "*******************************************\n",
      "\n",
      "Docs:   https://taichi.rtfd.io/en/stable\n",
      "GitHub: https://github.com/taichi-dev/taichi\n",
      "Forum:  https://forum.taichi.graphics\n",
      "\n"
     ]
    },
    {
     "name": "stderr",
     "output_type": "stream",
     "text": [
      "usage: ti example [-h] [-p] [-P] [-s]\n",
      "                  {ad_gravity,autodiff_minimization,autodiff_regression,cg_possion,comet,cornell_box,euler,export_mesh,export_ply,export_videos,fem128,fem99,fractal,fullscreen,game_of_life,gui_image_io,gui_widgets,keyboard,laplace,mass_spring_3d,mass_spring_game,mciso,mciso_advanced,mgpcg,mgpcg_advanced,minimal,mnist,mnist_download_data,mpm128,mpm3d,mpm88,mpm99,mpm_lagrangian_forces,nbody_oscillator,odop_solar,particle_renderer,pbf2d,physarum,quadtree,renderer_utils,revert_image_color,sdf2d,sdf_renderer,simple_uv,stable_fluid,taichi_autodiff,taichi_bitmasked,taichi_dynamic,taichi_logo,taichi_sparse,tree_gravity,vortex_rings,waterwave}\n",
      "ti example: error: the following arguments are required: name\n"
     ]
    }
   ],
   "source": [
    "!ti example"
   ]
  },
  {
   "cell_type": "code",
   "execution_count": null,
   "metadata": {},
   "outputs": [],
   "source": []
  }
 ],
 "metadata": {
  "kernelspec": {
   "display_name": "Python 3",
   "language": "python",
   "name": "python3"
  },
  "language_info": {
   "codemirror_mode": {
    "name": "ipython",
    "version": 3
   },
   "file_extension": ".py",
   "mimetype": "text/x-python",
   "name": "python",
   "nbconvert_exporter": "python",
   "pygments_lexer": "ipython3",
   "version": "3.7.10"
  },
  "toc": {
   "base_numbering": 1,
   "nav_menu": {},
   "number_sections": true,
   "sideBar": true,
   "skip_h1_title": true,
   "title_cell": "Table of Contents",
   "title_sidebar": "Contents",
   "toc_cell": false,
   "toc_position": {},
   "toc_section_display": true,
   "toc_window_display": true
  }
 },
 "nbformat": 4,
 "nbformat_minor": 4
}
